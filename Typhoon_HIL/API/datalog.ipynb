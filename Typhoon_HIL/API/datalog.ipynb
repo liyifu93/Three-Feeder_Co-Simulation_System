{
 "cells": [
  {
   "cell_type": "code",
   "execution_count": 1,
   "metadata": {},
   "outputs": [
    {
     "name": "stdout",
     "output_type": "stream",
     "text": [
      "Starting from installation...\n"
     ]
    },
    {
     "data": {
      "text/plain": [
       "True"
      ]
     },
     "execution_count": 1,
     "metadata": {},
     "output_type": "execute_result"
    }
   ],
   "source": [
    "import typhoon.api.hil as hil\n",
    "import pandas as pd\n",
    "import datetime\n",
    "import os\n",
    "from typhoon.api.hil.stub import clstub\n",
    "\n",
    "# first we need to load model (replace the XXX with your path)\n",
    "hil.load_model(file= r'C:\\\\Users\\\\XXX\\\\dn2_proposed.cpd', offlineMode=False, vhil_device=False)\n",
    "\n",
    "# after model is loaded we could open existing settings file which will initialize model parameters...\n",
    "hil.load_settings_file(file=r'C:\\\\Users\\\\XXX\\\\dn2_proposed.runx')"
   ]
  },
  {
   "cell_type": "code",
   "execution_count": 2,
   "metadata": {},
   "outputs": [
    {
     "name": "stdout",
     "output_type": "stream",
     "text": [
      "[['Meter1.Ia_ph', 'Meter1.IA_rms', 'Meter1.Va_ph', 'Meter1.VAn_rms', 'Meter2.Ia_ph', 'Meter2.IA_rms', 'Meter2.Va_ph', 'Meter2.VAn_rms', 'Meter3.Ia_ph', 'Meter3.IA_rms', 'Meter4.Ia_ph', 'Meter4.IA_rms', 'Meter5.Ia_ph', 'Meter5.IA_rms', 'Meter6.Ia_ph', 'Meter6.IA_rms', 'Meter7.Ia_ph', 'Meter7.IA_rms', 'Meter8_IaM', 'Meter8_IaP', 'Meter9_IaM', 'Meter9_IaP', 'Meter10_IaM', 'Meter10_IaP', 'Meter11_IaM', 'Meter11_IaP', 'Meter12_IaM', 'Meter12_IaP', 'Meter13_IaM', 'Meter13_IaP', 'Meter14_IaM', 'Meter14_IaP', 'Meter15.Ia_ph', 'Meter15.IA_rms', 'Meter16.Ia_ph', 'Meter16.IA_rms', 'Meter17.Ia_ph', 'Meter17.IA_rms', 'Meter18.Ia_ph', 'Meter18.IA_rms', 'Meter19.Ia_ph', 'Meter19.IA_rms', 'Meter20.Ia_ph', 'Meter20.IA_rms', 'Meter21.Ia_ph', 'Meter21.IA_rms', 'Meter22.Ia', 'Meter22.Ia_ph', 'Meter22.IA_rms', 'Meter22.Ib', 'Meter22.Ic', 'Meter22.Va', 'Meter22.Va_ph', 'Meter22.VAn_rms', 'Meter22.Vb', 'Meter22.Vc', 'Meter23.Ia', 'Meter23.Ia_ph', 'Meter23.IA_rms', 'Meter23.Ib', 'Meter23.Ic', 'Meter23.Va', 'Meter23.Va_ph', 'Meter23.VAn_rms', 'Meter23.Vb', 'Meter23.Vc', 'utc_Day1', 'utc_Day2', 'utc_Hour1', 'utc_Hour2', 'utc_Minute1', 'utc_Minute2', 'utc_Month1', 'utc_Month2', 'utc_Second1', 'utc_Second2', 'utc_Year1', 'utc_Year2']]\n"
     ]
    }
   ],
   "source": [
    "# check how many signals could be exported\n",
    "streaming_analog_signals = hil.get_streaming_analog_signals()\n",
    "print(streaming_analog_signals)"
   ]
  },
  {
   "cell_type": "code",
   "execution_count": 3,
   "metadata": {},
   "outputs": [],
   "source": [
    "# DN1 Time\n",
    "utc_Year1 = hil.read_analog_signal(name='utc_Year1')\n",
    "utc_Month1 = hil.read_analog_signal(name='utc_Month1')\n",
    "utc_Day1 = hil.read_analog_signal(name='utc_Day1')\n",
    "utc_Hour1 = hil.read_analog_signal(name='utc_Hour1')\n",
    "utc_Minute1 = hil.read_analog_signal(name='utc_Minute1')\n",
    "utc_Second1 = hil.read_analog_signal(name='utc_Second1')\n",
    "\n",
    "# DN1 Data\n",
    "Meter14_IaM = hil.read_analog_signal(name='Meter14_IaM')\n",
    "Meter14_IaP = hil.read_analog_signal(name='Meter14_IaP')\n",
    "Meter13_IaM = hil.read_analog_signal(name='Meter13_IaM')\n",
    "Meter13_IaP = hil.read_analog_signal(name='Meter13_IaP')\n",
    "Meter12_IaM = hil.read_analog_signal(name='Meter12_IaM')\n",
    "Meter12_IaP = hil.read_analog_signal(name='Meter12_IaP')\n",
    "Meter11_IaM = hil.read_analog_signal(name='Meter11_IaM')\n",
    "Meter11_IaP = hil.read_analog_signal(name='Meter11_IaP')\n",
    "Meter10_IaM = hil.read_analog_signal(name='Meter10_IaM')\n",
    "Meter10_IaP = hil.read_analog_signal(name='Meter10_IaP')\n",
    "Meter9_IaM = hil.read_analog_signal(name='Meter9_IaM')\n",
    "Meter9_IaP = hil.read_analog_signal(name='Meter9_IaP')\n",
    "Meter8_IaM = hil.read_analog_signal(name='Meter8_IaM')\n",
    "Meter8_IaP = hil.read_analog_signal(name='Meter8_IaP')\n",
    "\n",
    "# DN2 Time\n",
    "utc_Year2 = hil.read_analog_signal(name='utc_Year2')\n",
    "utc_Month2 = hil.read_analog_signal(name='utc_Month2')\n",
    "utc_Day2 = hil.read_analog_signal(name='utc_Day2')\n",
    "utc_Hour2 = hil.read_analog_signal(name='utc_Hour2')\n",
    "utc_Minute2 = hil.read_analog_signal(name='utc_Minute2')\n",
    "utc_Second2 = hil.read_analog_signal(name='utc_Second2')\n",
    "\n",
    "# DN2 Data\n",
    "Meter1_IaM = hil.read_analog_signal(name='Meter1_IaM')\n",
    "Meter1_IaP = hil.read_analog_signal(name='Meter1_IaP')\n",
    "Meter2_IaM = hil.read_analog_signal(name='Meter2_IaM')\n",
    "Meter2_IaP = hil.read_analog_signal(name='Meter2_IaP')\n",
    "Meter3_IaM = hil.read_analog_signal(name='Meter3_IaM')\n",
    "Meter3_IaP = hil.read_analog_signal(name='Meter3_IaP')\n",
    "Meter4_IaM = hil.read_analog_signal(name='Meter4_IaM')\n",
    "Meter4_IaP = hil.read_analog_signal(name='Meter4_IaP')\n",
    "Meter5_IaM = hil.read_analog_signal(name='Meter5_IaM')\n",
    "Meter5_IaP = hil.read_analog_signal(name='Meter5_IaP')\n",
    "Meter6_IaM = hil.read_analog_signal(name='Meter6_IaM')\n",
    "Meter6_IaP = hil.read_analog_signal(name='Meter6_IaP')\n",
    "Meter7_IaM = hil.read_analog_signal(name='Meter7_IaM')\n",
    "Meter7_IaP = hil.read_analog_signal(name='Meter7_IaP')\n",
    "Meter15_IaM = hil.read_analog_signal(name='Meter15_IaM')\n",
    "Meter15_IaP = hil.read_analog_signal(name='Meter15_IaP')\n",
    "Meter16_IaM = hil.read_analog_signal(name='Meter16_IaM')\n",
    "Meter16_IaP = hil.read_analog_signal(name='Meter16_IaP')\n",
    "Meter17_IaM = hil.read_analog_signal(name='Meter17_IaM')\n",
    "Meter17_IaP = hil.read_analog_signal(name='Meter17_IaP')\n",
    "Meter18_IaM = hil.read_analog_signal(name='Meter18_IaM')\n",
    "Meter18_IaP = hil.read_analog_signal(name='Meter18_IaP')\n",
    "Meter19_IaM = hil.read_analog_signal(name='Meter19_IaM')\n",
    "Meter19_IaP = hil.read_analog_signal(name='Meter19_IaP')\n",
    "Meter20_IaM = hil.read_analog_signal(name='Meter20_IaM')\n",
    "Meter20_IaP = hil.read_analog_signal(name='Meter20_IaP')\n",
    "Meter21_IaM = hil.read_analog_signal(name='Meter21_IaM')\n",
    "Meter21_IaP = hil.read_analog_signal(name='Meter21_IaP')\n",
    "\n",
    "# DN2 Relay\n",
    "Relay2_Ia = hil.read_analog_signal(name='Meter22.Ia')\n",
    "Relay2_Ib = hil.read_analog_signal(name='Meter22.Ib')\n",
    "Relay2_Ic = hil.read_analog_signal(name='Meter22.Ic')\n",
    "Relay2_Va = hil.read_analog_signal(name='Meter22.Va')\n",
    "Relay2_Vb = hil.read_analog_signal(name='Meter22.Vb')\n",
    "Relay2_Vc = hil.read_analog_signal(name='Meter22.Vc')\n",
    "Relay4_Ia = hil.read_analog_signal(name='Meter23.Ia')\n",
    "Relay4_Ib = hil.read_analog_signal(name='Meter23.Ib')\n",
    "Relay4_Ic = hil.read_analog_signal(name='Meter23.Ic')\n",
    "Relay4_Va = hil.read_analog_signal(name='Meter23.Va')\n",
    "Relay4_Vb = hil.read_analog_signal(name='Meter23.Vb')\n",
    "Relay4_Vc = hil.read_analog_signal(name='Meter23.Vc')\n",
    "\n",
    "data = [\n",
    "    \"Meter22.Ia\", \"Meter22.Ib\", \"Meter22.Ic\",\n",
    "    \"Meter22.Va\", \"Meter22.Vb\", \"Meter22.Vc\"\n",
    "    ]\n",
    "\n",
    "# add data logger (replace the XXX with your path)\n",
    "status = hil.add_data_logger(name='M2',\n",
    "                            signals=data,\n",
    "                            data_file=\"C:\\\\Users\\\\XXX\\\\M2.csv\",\n",
    "                            use_suffix=True)"
   ]
  },
  {
   "cell_type": "code",
   "execution_count": 4,
   "metadata": {},
   "outputs": [
    {
     "data": {
      "text/plain": [
       "True"
      ]
     },
     "execution_count": 4,
     "metadata": {},
     "output_type": "execute_result"
    }
   ],
   "source": [
    "# remove data loggers one by one from the model\n",
    "#status = hil.remove_data_logger(name='M2')\n",
    "\n",
    "# NOP3 Close/Open\n",
    "hil.set_scada_input_value('switch state 3', 0)\n",
    "\n",
    "# Relay OFF/ON\n",
    "hil.set_scada_input_value('relay state 2', 0)\n",
    "hil.set_scada_input_value('relay state 4', 0)\n",
    "\n",
    "# Fault Type - No Fault\n",
    "hil.set_scada_input_value('input1', 0)"
   ]
  },
  {
   "cell_type": "code",
   "execution_count": 5,
   "metadata": {},
   "outputs": [
    {
     "data": {
      "text/plain": [
       "True"
      ]
     },
     "execution_count": 5,
     "metadata": {},
     "output_type": "execute_result"
    }
   ],
   "source": [
    "# start simulation\n",
    "# (data logger will immediately start to collect data because is already started)\n",
    "hil.start_simulation()"
   ]
  },
  {
   "cell_type": "code",
   "execution_count": 6,
   "metadata": {},
   "outputs": [],
   "source": [
    "# start data logger\n",
    "# (it won't start to collect data because simulation is not started)\n",
    "status = hil.start_data_logger(name='M2')"
   ]
  },
  {
   "cell_type": "code",
   "execution_count": 7,
   "metadata": {},
   "outputs": [
    {
     "name": "stdout",
     "output_type": "stream",
     "text": [
      "Fault happend at 7.487 second.\n"
     ]
    }
   ],
   "source": [
    "# Fault Type - A-N\n",
    "hil.set_scada_input_value('input1', 5)\n",
    "\n",
    "# Fault Type - A-B\n",
    "#hil.set_scada_input_value('input1', 8)\n",
    "\n",
    "# Fault Type - A-B-N\n",
    "#hil.set_scada_input_value('input1', 9)\n",
    "\n",
    "# Fault Type - A-B-C-N\n",
    "#hil.set_scada_input_value('input1', 11)\n",
    "\n",
    "simulationTime = hil.get_sim_time()\n",
    "print(\"Fault happend at %.3f second.\" % (simulationTime))"
   ]
  },
  {
   "cell_type": "code",
   "execution_count": 8,
   "metadata": {},
   "outputs": [
    {
     "name": "stdout",
     "output_type": "stream",
     "text": [
      "Back to normal at 11.150 second.\n"
     ]
    }
   ],
   "source": [
    "# Back to normal mode\n",
    "# Fault Type - No Fault\n",
    "hil.set_scada_input_value('input1', 0)\n",
    "\n",
    "simulationTime = hil.get_sim_time()\n",
    "print(\"Back to normal at %.3f second.\" % (simulationTime))"
   ]
  },
  {
   "cell_type": "code",
   "execution_count": 9,
   "metadata": {},
   "outputs": [
    {
     "data": {
      "text/plain": [
       "True"
      ]
     },
     "execution_count": 9,
     "metadata": {},
     "output_type": "execute_result"
    }
   ],
   "source": [
    "# stop data logger\n",
    "status = hil.stop_data_logger(name='M2')\n",
    "\n",
    "# we will stop simulation\n",
    "hil.stop_simulation()\n",
    "\n",
    "# and end script\n",
    "#hil.end_script_by_user()"
   ]
  }
 ],
 "metadata": {
  "kernelspec": {
   "display_name": "base",
   "language": "python",
   "name": "python3"
  },
  "language_info": {
   "codemirror_mode": {
    "name": "ipython",
    "version": 3
   },
   "file_extension": ".py",
   "mimetype": "text/x-python",
   "name": "python",
   "nbconvert_exporter": "python",
   "pygments_lexer": "ipython3",
   "version": "3.11.5"
  }
 },
 "nbformat": 4,
 "nbformat_minor": 2
}
